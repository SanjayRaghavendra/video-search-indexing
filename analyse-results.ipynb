{
 "cells": [
  {
   "cell_type": "code",
   "execution_count": 1,
   "metadata": {},
   "outputs": [],
   "source": [
    "import pickle\n",
    "import pandas as pd\n",
    "import cv2\n",
    "import imageio\n",
    "\n",
    "from collections import defaultdict\n",
    "from get_hash import generate_frame_hash"
   ]
  },
  {
   "cell_type": "code",
   "execution_count": 7,
   "metadata": {},
   "outputs": [
    {
     "name": "stdout",
     "output_type": "stream",
     "text": [
      "Requirement already satisfied: imageio[ffmpeg] in /Users/sanjay/anaconda3/lib/python3.7/site-packages (2.8.0)\n",
      "Requirement already satisfied: numpy in /Users/sanjay/anaconda3/lib/python3.7/site-packages (from imageio[ffmpeg]) (1.19.5)\n",
      "Requirement already satisfied: pillow in /Users/sanjay/anaconda3/lib/python3.7/site-packages (from imageio[ffmpeg]) (9.2.0)\n",
      "Collecting imageio-ffmpeg; extra == \"ffmpeg\"\n",
      "  Downloading imageio_ffmpeg-0.4.9-py3-none-macosx_10_9_intel.macosx_10_9_x86_64.macosx_10_10_intel.macosx_10_10_x86_64.whl (22.5 MB)\n",
      "\u001b[K     |████████████████████████████████| 22.5 MB 4.6 MB/s eta 0:00:01\n",
      "\u001b[?25hRequirement already satisfied: setuptools in /Users/sanjay/anaconda3/lib/python3.7/site-packages (from imageio-ffmpeg; extra == \"ffmpeg\"->imageio[ffmpeg]) (46.1.3.post20200330)\n",
      "Installing collected packages: imageio-ffmpeg\n",
      "Successfully installed imageio-ffmpeg-0.4.9\n"
     ]
    }
   ],
   "source": [
    "!pip install imageio[ffmpeg]"
   ]
  },
  {
   "cell_type": "code",
   "execution_count": 2,
   "metadata": {},
   "outputs": [],
   "source": [
    "hash_values = pickle.load(open('./hash-values/video1.pkl', 'rb'))"
   ]
  },
  {
   "cell_type": "code",
   "execution_count": 3,
   "metadata": {},
   "outputs": [
    {
     "data": {
      "text/plain": [
       "{'hash': '5909ca838be5193d057a0551ccb833234b683b6a1b59867ee112864995a295fa',\n",
       " 'frame_number': 2499,\n",
       " 'video_path': '/Users/sanjay/Downloads/576_final_PA/Videos/video-1/video1.mp4'}"
      ]
     },
     "execution_count": 3,
     "metadata": {},
     "output_type": "execute_result"
    }
   ],
   "source": [
    "hash_values[2499]"
   ]
  },
  {
   "cell_type": "code",
   "execution_count": 4,
   "metadata": {},
   "outputs": [
    {
     "name": "stdout",
     "output_type": "stream",
     "text": [
      "[2498, 2499]\n",
      "[6998, 6999]\n"
     ]
    }
   ],
   "source": [
    "hash_set = defaultdict(list)\n",
    "\n",
    "for entry in hash_values:\n",
    "    hash_set[entry['hash']].append(entry['frame_number'])\n",
    "\n",
    "for h, f in hash_set.items():\n",
    "    if len(f) > 1:\n",
    "        print(f)\n"
   ]
  },
  {
   "cell_type": "code",
   "execution_count": 8,
   "metadata": {},
   "outputs": [],
   "source": [
    "def test(video_path, hash_values, hash_set):\n",
    "    # Open the video file\n",
    "#     video_capture = cv2.VideoCapture(video_path)\n",
    "    \n",
    "#     while True:\n",
    "\n",
    "#         ret, frame = video_capture.read()\n",
    "        \n",
    "#         if not ret:\n",
    "#             break\n",
    "\n",
    "#         B, G, R = cv2.split(frame)\n",
    "\n",
    "#         # # Convert the frame to YUV color space\n",
    "#         # y_component = cv2.cvtColor(frame, cv2.COLOR_BGR2YUV)[:, :, 0]\n",
    "\n",
    "#         frame_hash = generate_frame_hash(R.flatten())\n",
    "#         print(frame_hash)\n",
    "        \n",
    "#         if frame_hash in hash_set:\n",
    "#         